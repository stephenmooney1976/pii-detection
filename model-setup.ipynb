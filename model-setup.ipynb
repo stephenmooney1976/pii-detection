{
 "cells": [
  {
   "cell_type": "markdown",
   "id": "5406e4bd-7b15-43d3-a6f2-4ca3131e372a",
   "metadata": {
    "tags": []
   },
   "source": [
    "## First, let's install the packages we will need. The following libraries will be used throughout the project:\n",
    "\n",
    "- huggingface_hub\n",
    "- presidio_analyzer\n",
    "- presidio_anonymizer\n",
    "- presidio_image_redactor\n",
    "- sentence_transformers\n",
    "- dotenv"
   ]
  },
  {
   "cell_type": "code",
   "execution_count": 1,
   "id": "9999fd68-3351-40cb-8142-24f318f2c2a1",
   "metadata": {
    "tags": []
   },
   "outputs": [],
   "source": [
    "!pip install -r requirements.txt -q\n",
    "# below is a fix for HuggingFace + Tensorflow 2.13+\n",
    "!pip install -U git+https://github.com/huggingface/transformers.git -q"
   ]
  },
  {
   "cell_type": "markdown",
   "id": "c3539033-f133-45df-8e4d-d913edf679f3",
   "metadata": {},
   "source": [
    "### We are going to download and use the dslim/bert-base-NER to augment PII detection. \n",
    "\n",
    "_bert-base-NER is a fine-tuned BERT model that is ready to use for Named Entity Recognition and achieves state-of-the-art performance for the NER task. It has been trained to recognize four types of entities: location (LOC), organizations (ORG), person (PER) and Miscellaneous (MISC)._"
   ]
  },
  {
   "cell_type": "code",
   "execution_count": 2,
   "id": "0cd2167b-6a91-4f41-ac8b-bd7a6f8edb7f",
   "metadata": {
    "tags": []
   },
   "outputs": [
    {
     "data": {
      "application/vnd.jupyter.widget-view+json": {
       "model_id": "4deea0273092493b9c39f91f71168945",
       "version_major": 2,
       "version_minor": 0
      },
      "text/plain": [
       "Fetching 11 files:   0%|          | 0/11 [00:00<?, ?it/s]"
      ]
     },
     "metadata": {},
     "output_type": "display_data"
    },
    {
     "data": {
      "text/plain": [
       "'/Users/spm1976/development/pii-analyzer-anonymizer/bert-base-NER'"
      ]
     },
     "execution_count": 2,
     "metadata": {},
     "output_type": "execute_result"
    }
   ],
   "source": [
    "from huggingface_hub import snapshot_download\n",
    "\n",
    "repo_id = 'dslim/bert-base-NER'\n",
    "model_id = repo_id.split('/')[-1]\n",
    "\n",
    "snapshot_download(repo_id=repo_id, local_dir=model_id)"
   ]
  },
  {
   "cell_type": "markdown",
   "id": "903173c2-a72e-4da3-a7aa-6a65f91a3910",
   "metadata": {},
   "source": [
    "### Next we will implement our Presidio anonymizer.\n",
    "\n",
    "_First the base analyzer is created and initialized_\n",
    "_Second we will create a class to extend the base analyzer instantiation_"
   ]
  },
  {
   "cell_type": "code",
   "execution_count": 3,
   "id": "b2768746-607a-43e7-8a19-a30a68a5ad25",
   "metadata": {
    "tags": []
   },
   "outputs": [],
   "source": [
    "import spacy\n",
    "\n",
    "try:\n",
    "  nlp_lg = spacy.load(\"en_core_web_lg\")\n",
    "except ModuleNotFoundError:\n",
    "  download(model=\"en_core_web_lg\")\n"
   ]
  },
  {
   "cell_type": "code",
   "execution_count": 27,
   "id": "3073ca1d-7742-4b8a-8ed8-5bb3b5beb5e9",
   "metadata": {
    "tags": []
   },
   "outputs": [],
   "source": [
    "from presidio_anonymizer import AnonymizerEngine\n",
    "from presidio_anonymizer.entities import OperatorConfig, RecognizerResult\n",
    "from presidio_analyzer import AnalyzerEngine\n",
    "from typing import List  \n",
    "\n",
    "from presidio_analyzer import AnalyzerEngine, EntityRecognizer, RecognizerResult\n",
    "from presidio_analyzer.nlp_engine import NlpArtifacts\n",
    "\n",
    "from transformers import pipeline\n",
    "\n",
    "# load spacy model -> workaround\n",
    "#import os\n",
    "#os.system(\"spacy download en_core_web_lg\")\n",
    "\n",
    "# list of entities: https://microsoft.github.io/presidio/supported_entities/#list-of-supported-entities\n",
    "DEFAULT_ANOYNM_ENTITIES = [\n",
    "    \"CREDIT_CARD\", \n",
    "    \"CRYPTO\",\n",
    "    \"DATE_TIME\",\n",
    "    \"EMAIL_ADDRESS\",\n",
    "    \"IBAN_CODE\",\n",
    "    \"IP_ADDRESS\",\n",
    "    \"NRP\",\n",
    "    \"LOCATION\",\n",
    "    \"PERSON\",\n",
    "    \"PHONE_NUMBER\",\n",
    "    \"MEDICAL_LICENSE\",\n",
    "    \"URL\",\n",
    "    \"ORGANIZATION\",\n",
    "    \"US_SSN\"\n",
    "]\n"
   ]
  },
  {
   "cell_type": "code",
   "execution_count": 39,
   "id": "7fd231b5-07cc-45a8-a0c7-ed080fea35af",
   "metadata": {
    "tags": []
   },
   "outputs": [],
   "source": [
    "# implement EntityRecognizer class for HuggingFace NER model\n",
    "class TransformerRecognizer(EntityRecognizer):\n",
    "    '''\n",
    "    '''\n",
    "    def __init__(\n",
    "        self,\n",
    "        model_id_or_path=None,\n",
    "        aggregation_strategy='simple',\n",
    "        supported_language='en',\n",
    "        ignore_labels=['0','O','MISC']\n",
    "    ):\n",
    "         # initialize transformers pipeline for given mode or path\n",
    "        self.pipeline = pipeline(\n",
    "            \"token-classification\",\n",
    "            model=model_id_or_path, \n",
    "            aggregation_strategy=aggregation_strategy,\n",
    "            ignore_labels=ignore_labels\n",
    "        )\n",
    "        \n",
    "        # map labels to presidio labels\n",
    "        self.label2presidio = {\n",
    "            \"PER\": \"PERSON\",\n",
    "            \"LOC\": \"LOCATION\",\n",
    "            \"ORG\": \"ORGANIZATION\"\n",
    "        }\n",
    "        \n",
    "        #pass entities from model to parent class\n",
    "        super().__init__(\n",
    "            supported_entities=list(self.label2presidio.values()), \n",
    "            supported_language=supported_language\n",
    "        )\n",
    "        \n",
    "    '''\n",
    "    '''\n",
    "    def load(self):\n",
    "        ''' no loading is required '''\n",
    "        pass\n",
    "    \n",
    "    '''\n",
    "    '''\n",
    "    def analyze(\n",
    "        self,\n",
    "        text,\n",
    "        entities=None,\n",
    "        nlp_artifacts=None\n",
    "    ):        \n",
    "        predicted_entities = self.pipeline(text)\n",
    "        \n",
    "        results = [ \n",
    "            RecognizerResult(entity_type=self.label2presidio[e['entity_group']], \n",
    "                             start=e['start'], \n",
    "                             end=e['end'], \n",
    "                             score=e['score']) for e in predicted_entities\n",
    "        ]\n",
    "                \n",
    "        return results"
   ]
  },
  {
   "cell_type": "code",
   "execution_count": 40,
   "id": "c8f6a665-cbc9-41df-b1dd-3125b9147ca7",
   "metadata": {},
   "outputs": [],
   "source": [
    "# not used. just an example\n",
    "def model_fn(model_dir):\n",
    "    xfmr_recognizer = TransformerRecognizer(model_dir)\n",
    "    analyzer = AnalyzerEngine()\n",
    "    analyzer.registry.add_recognizer(xfmr_recognizer)\n",
    "    return analyzer"
   ]
  },
  {
   "cell_type": "code",
   "execution_count": 41,
   "id": "aab3afed-c6a7-47d5-93de-4e8a3600dd86",
   "metadata": {
    "tags": []
   },
   "outputs": [],
   "source": [
    "# not used. just an example\n",
    "def predict_fn(data, analyzer):\n",
    "    sentences = data.pop('inputs', data)\n",
    "    if \"parameters\" in data:\n",
    "        anonymization_entities = data[\"parameters\"].get(\"entities\", DEFAULT_ANOYNM_ENTITIES)\n",
    "        anonymize_text = data[\"parameters\"].get(\"anonymize\", False)\n",
    "    else:\n",
    "        anonymization_entities = DEFAULT_ANOYNM_ENTITIES\n",
    "        anonymize_text = False\n",
    "        \n",
    "    # identify entities\n",
    "    results = analyzer.analyze(text=sentences, entities=anonymization_entities, language=\"en\")\n",
    "    \n",
    "    # anonymize text\n",
    "    if anonymize_text:\n",
    "        result = engine.anonymize(text=sentences, analyzer_results=results)\n",
    "        return {\"anonymized\": result.text}\n",
    "\n",
    "    return {\"found\": [entity.to_dict() for entity in results]}"
   ]
  },
  {
   "cell_type": "code",
   "execution_count": 42,
   "id": "1db39a44-03b7-4c1b-afa1-31eec9695da2",
   "metadata": {},
   "outputs": [
    {
     "name": "stderr",
     "output_type": "stream",
     "text": [
      "Some weights of the model checkpoint at bert-base-NER were not used when initializing BertForTokenClassification: ['bert.pooler.dense.weight', 'bert.pooler.dense.bias']\n",
      "- This IS expected if you are initializing BertForTokenClassification from the checkpoint of a model trained on another task or with another architecture (e.g. initializing a BertForSequenceClassification model from a BertForPreTraining model).\n",
      "- This IS NOT expected if you are initializing BertForTokenClassification from the checkpoint of a model that you expect to be exactly identical (initializing a BertForSequenceClassification model from a BertForSequenceClassification model).\n"
     ]
    }
   ],
   "source": [
    "model_dir = 'bert-base-NER' # directory that we downloaded HuggingFace to above\n",
    "\n",
    "xfmr_recognizer = TransformerRecognizer(model_dir)\n",
    "analyzer = AnalyzerEngine()\n",
    "analyzer.registry.add_recognizer(xfmr_recognizer)"
   ]
  },
  {
   "cell_type": "code",
   "execution_count": 43,
   "id": "def4cdfb-fb5b-43e5-ba10-e5314650ba5b",
   "metadata": {
    "tags": []
   },
   "outputs": [
    {
     "name": "stdout",
     "output_type": "stream",
     "text": [
      "[type: PERSON, start: 16, end: 21, score: 0.944421648979187, type: PHONE_NUMBER, start: 46, end: 58, score: 0.75]\n"
     ]
    }
   ],
   "source": [
    "text = \"His name is Mr. Jones and his phone number is 212-555-5555\"\n",
    "\n",
    "analyzer_results = analyzer.analyze(text=text, language=\"en\")\n",
    "\n",
    "print(analyzer_results)"
   ]
  },
  {
   "cell_type": "code",
   "execution_count": 44,
   "id": "abb1fb70-9a1c-44e2-adc8-b6eeb722da13",
   "metadata": {
    "tags": []
   },
   "outputs": [],
   "source": [
    "operators = {\n",
    "    \"DEFAULT\": OperatorConfig(\"replace\", {\"new_value\": \"<ANONYMIZED>\"}),\n",
    "    \"PHONE_NUMBER\": OperatorConfig(\n",
    "        \"mask\",\n",
    "        {\n",
    "            \"type\": \"mask\",\n",
    "            \"masking_char\": \"*\",\n",
    "            \"chars_to_mask\": 12,\n",
    "            \"from_end\": True,\n",
    "        },\n",
    "    ),\n",
    "    \"TITLE\": OperatorConfig(\"redact\", {}),\n",
    "}"
   ]
  },
  {
   "cell_type": "code",
   "execution_count": 45,
   "id": "f5ea53d7-2698-4fb9-ad84-6dcfd0d49812",
   "metadata": {
    "tags": []
   },
   "outputs": [
    {
     "name": "stdout",
     "output_type": "stream",
     "text": [
      "text: His name is Mr. <ANONYMIZED> and his phone number is ************\n",
      "items:\n",
      "[\n",
      "    {'start': 53, 'end': 65, 'entity_type': 'PHONE_NUMBER', 'text': '************', 'operator': 'mask'},\n",
      "    {'start': 16, 'end': 28, 'entity_type': 'PERSON', 'text': '<ANONYMIZED>', 'operator': 'replace'}\n",
      "]\n",
      "\n"
     ]
    }
   ],
   "source": [
    "# initialize the anonymizer. this is not the extended EntityRecognizer\n",
    "anonymizer_engine = AnonymizerEngine()\n",
    "\n",
    "# create anonymized results\n",
    "anonymized_results = anonymizer_engine.anonymize(\n",
    "    text=text, analyzer_results=analyzer_results, operators=operators\n",
    ")\n",
    "\n",
    "print(anonymized_results)"
   ]
  },
  {
   "cell_type": "code",
   "execution_count": 46,
   "id": "b16aaf4b-0daa-4236-8b21-fb005f5e983e",
   "metadata": {
    "tags": []
   },
   "outputs": [
    {
     "name": "stdout",
     "output_type": "stream",
     "text": [
      "text: \n",
      "<ANONYMIZED>, born in <ANONYMIZED>, lives in <ANONYMIZED>, <ANONYMIZED>. \n",
      "He is a software engineer and has a Bachelor's degree in Computer Science from the <ANONYMIZED>. \n",
      "He drives a blue Honda Accord and his driver's license number is <ANONYMIZED>. \n",
      "His social security number is <ANONYMIZED> and his phone number is (2************. \n",
      "<ANONYMIZED> enjoys playing basketball and hiking in his free time. \n",
      "He is married to <ANONYMIZED> and they have two children, <ANONYMIZED> and <ANONYMIZED>.\n",
      "He banks at <ANONYMIZED> and his account number is ***********\n",
      "\n",
      "items:\n",
      "[\n",
      "    {'start': 546, 'end': 557, 'entity_type': 'PHONE_NUMBER', 'text': '***********', 'operator': 'mask'},\n",
      "    {'start': 507, 'end': 519, 'entity_type': 'ORGANIZATION', 'text': '<ANONYMIZED>', 'operator': 'replace'},\n",
      "    {'start': 481, 'end': 493, 'entity_type': 'PERSON', 'text': '<ANONYMIZED>', 'operator': 'replace'},\n",
      "    {'start': 464, 'end': 476, 'entity_type': 'PERSON', 'text': '<ANONYMIZED>', 'operator': 'replace'},\n",
      "    {'start': 423, 'end': 435, 'entity_type': 'PERSON', 'text': '<ANONYMIZED>', 'operator': 'replace'},\n",
      "    {'start': 337, 'end': 349, 'entity_type': 'PERSON', 'text': '<ANONYMIZED>', 'operator': 'replace'},\n",
      "    {'start': 320, 'end': 334, 'entity_type': 'PHONE_NUMBER', 'text': '(2************', 'operator': 'mask'},\n",
      "    {'start': 283, 'end': 295, 'entity_type': 'US_SSN', 'text': '<ANONYMIZED>', 'operator': 'replace'},\n",
      "    {'start': 238, 'end': 250, 'entity_type': 'US_DRIVER_LICENSE', 'text': '<ANONYMIZED>', 'operator': 'replace'},\n",
      "    {'start': 158, 'end': 170, 'entity_type': 'ORGANIZATION', 'text': '<ANONYMIZED>', 'operator': 'replace'},\n",
      "    {'start': 60, 'end': 72, 'entity_type': 'LOCATION', 'text': '<ANONYMIZED>', 'operator': 'replace'},\n",
      "    {'start': 46, 'end': 58, 'entity_type': 'LOCATION', 'text': '<ANONYMIZED>', 'operator': 'replace'},\n",
      "    {'start': 23, 'end': 35, 'entity_type': 'DATE_TIME', 'text': '<ANONYMIZED>', 'operator': 'replace'},\n",
      "    {'start': 1, 'end': 13, 'entity_type': 'PERSON', 'text': '<ANONYMIZED>', 'operator': 'replace'}\n",
      "]\n",
      "\n"
     ]
    }
   ],
   "source": [
    "text = '''\n",
    "John Smith, born in 1987, lives in Seattle, Washington. \n",
    "He is a software engineer and has a Bachelor's degree in Computer Science from the University of Washington. \n",
    "He drives a blue Honda Accord and his driver's license number is A123456789. \n",
    "His social security number is 995-12-2716 and his phone number is (206) 555-1234. \n",
    "John enjoys playing basketball and hiking in his free time. \n",
    "He is married to Sarah Smith and they have two children, Emma and Jake.\n",
    "He banks at JPMC and his account number is 99953153415\n",
    "'''\n",
    "\n",
    "analyzer_results =  analyzer.analyze(text=text, language=\"en\")\n",
    "\n",
    "anonymized_results = anonymizer_engine.anonymize(\n",
    "    text=text, analyzer_results=analyzer_results, operators=operators\n",
    ")\n",
    "\n",
    "print(anonymized_results)"
   ]
  },
  {
   "cell_type": "code",
   "execution_count": 47,
   "id": "9c9ed252-b0c7-419c-9df8-cce7f89a1833",
   "metadata": {
    "tags": []
   },
   "outputs": [],
   "source": [
    "!cd redpanda && ./start_container.bash"
   ]
  },
  {
   "cell_type": "code",
   "execution_count": null,
   "id": "99066a2e-2f2c-4b91-a97c-6c2dca439195",
   "metadata": {},
   "outputs": [],
   "source": [
    "from dotenv import load_dotenv"
   ]
  }
 ],
 "metadata": {
  "kernelspec": {
   "display_name": "Python 3 (ipykernel)",
   "language": "python",
   "name": "python3"
  },
  "language_info": {
   "codemirror_mode": {
    "name": "ipython",
    "version": 3
   },
   "file_extension": ".py",
   "mimetype": "text/x-python",
   "name": "python",
   "nbconvert_exporter": "python",
   "pygments_lexer": "ipython3",
   "version": "3.11.4"
  }
 },
 "nbformat": 4,
 "nbformat_minor": 5
}
